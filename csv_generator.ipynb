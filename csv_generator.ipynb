{
 "cells": [
  {
   "cell_type": "code",
   "execution_count": null,
   "id": "724c264f",
   "metadata": {
    "lines_to_next_cell": 2
   },
   "outputs": [],
   "source": [
    "import gzip\n",
    "import csv\n",
    "import networkx as nx\n",
    "import pandas as pd"
   ]
  },
  {
   "cell_type": "markdown",
   "id": "8030f4e1",
   "metadata": {},
   "source": [
    "Código para gerar a partir do twitter_combined.txt.gz o twitter_network.csv"
   ]
  },
  {
   "cell_type": "code",
   "execution_count": null,
   "id": "608bb977",
   "metadata": {},
   "outputs": [],
   "source": [
    "input_path = \"data/twitter_combined.txt.gz\"\n",
    "output_path = \"csv_files/twitter_network.csv\""
   ]
  },
  {
   "cell_type": "code",
   "execution_count": null,
   "id": "387b3a0f",
   "metadata": {},
   "outputs": [],
   "source": [
    "with gzip.open(input_path, 'rt') as infile, open(output_path, 'w', newline='') as outfile:\n",
    "    writer = csv.writer(outfile)\n",
    "    writer.writerow(['source', 'target'])  # Cabeçalho do CSV\n",
    "    for line in infile:\n",
    "        nodes = line.strip().split()\n",
    "        if len(nodes) == 2:\n",
    "            writer.writerow(nodes)"
   ]
  },
  {
   "cell_type": "code",
   "execution_count": null,
   "id": "5239f3fb",
   "metadata": {},
   "outputs": [],
   "source": [
    "print(f\"Arquivo CSV salvo como {output_path}\")"
   ]
  }
 ],
 "metadata": {
  "jupytext": {
   "cell_metadata_filter": "-all",
   "main_language": "python",
   "notebook_metadata_filter": "-all"
  }
 },
 "nbformat": 4,
 "nbformat_minor": 5
}
