{
 "cells": [
  {
   "cell_type": "code",
   "execution_count": null,
   "id": "8be8a148",
   "metadata": {},
   "outputs": [],
   "source": [
    "import pandas as pd"
   ]
  },
  {
   "cell_type": "code",
   "execution_count": null,
   "id": "6ca8b54f",
   "metadata": {},
   "outputs": [],
   "source": [
    "# Carregar o arquivo original\n",
    "df = pd.read_csv('csv_files/twitter_network.csv')"
   ]
  },
  {
   "cell_type": "code",
   "execution_count": null,
   "id": "663afdf4",
   "metadata": {},
   "outputs": [],
   "source": [
    "# Criar uma amostra aleatória de 500 interações\n",
    "df_sample = df.sample(n=500, random_state=42)"
   ]
  },
  {
   "cell_type": "code",
   "execution_count": null,
   "id": "05fb022b",
   "metadata": {},
   "outputs": [],
   "source": [
    "# Salvar como novo CSV\n",
    "df_sample.to_csv('csv_files/twitter_network_sample.csv', index=False)"
   ]
  }
 ],
 "metadata": {
  "jupytext": {
   "cell_metadata_filter": "-all",
   "main_language": "python",
   "notebook_metadata_filter": "-all"
  }
 },
 "nbformat": 4,
 "nbformat_minor": 5
}
