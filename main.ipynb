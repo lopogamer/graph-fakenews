{
 "cells": [
  {
   "cell_type": "code",
   "execution_count": null,
   "metadata": {},
   "outputs": [
    {
     "ename": "",
     "evalue": "",
     "output_type": "error",
     "traceback": [
      "\u001b[1;31mA execução de células com 'ProjetoTAG (Python 3.11.11)' requer o pacote ipykernel.\n",
      "\u001b[1;31mExecute o seguinte comando para instalar \"ipykernel\" no ambiente do Python. \n",
      "\u001b[1;31mComando: \"conda install -n ProjetoTAG ipykernel --update-deps --force-reinstall\""
     ]
    }
   ],
   "source": [
    "import pandas as pd\n",
    "import numpy as np\n",
    "import matplotlib.pyplot as plt\n",
    "import gzip\n",
    "import csv\n",
    "import networkx as nx"
   ]
  },
  {
   "cell_type": "code",
   "execution_count": null,
   "metadata": {},
   "outputs": [],
   "source": [
    "input_path = \"data/twitter_combined.txt.gz\"\n",
    "output_path = \"csv_files/twitter_network.csv\"\n",
    "\n",
    "with gzip.open(input_path, 'rt') as infile, open(output_path, 'w', newline='') as outfile:\n",
    "    writer = csv.writer(outfile)\n",
    "    writer.writerow(['source', 'target'])  # Cabeçalho do CSV\n",
    "    for line in infile:\n",
    "        nodes = line.strip().split()\n",
    "        if len(nodes) == 2:\n",
    "            writer.writerow(nodes)\n",
    "\n",
    "print(f\"Arquivo CSV salvo como {output_path}\")"
   ]
  },
  {
   "cell_type": "code",
   "execution_count": null,
   "metadata": {},
   "outputs": [],
   "source": [
    "CSV_FILE = 'csv_files/twitter_network.csv'\n",
    "CSV_FILE_SAMPLE = 'csv_files/twitter_network_sample.csv'\n",
    "\n",
    "# Load dataset (format: source, target)\n",
    "df = pd.read_csv(CSV_FILE_SAMPLE)\n",
    "g = nx.DiGraph()\n",
    "\n",
    "# Adicionar arestas com peso baseado na frequência de interação\n",
    "for _, row in df.iterrows():\n",
    "    u = row['source']\n",
    "    v = row['target']\n",
    "    if g.has_edge(u, v):\n",
    "        g[u][v]['weight'] += 1\n",
    "    else:\n",
    "        g.add_edge(u, v, weight=1)\n",
    "\n",
    "\n",
    "print(f'Nodes {g.number_of_nodes()}')\n",
    "print(f'Edges {g.number_of_edges()}')\n",
    "\n",
    "# PageRank\n",
    "pagerank = nx.pagerank(g, alpha=0.85)\n",
    "\n",
    "# Top 10 nós mais influentes segundo PageRank\n",
    "top_10 = sorted(pagerank.items(), key=lambda x: x[1], reverse=True)[:10]\n",
    "print(\"Top 10 nós mais influentes (PageRank):\")\n",
    "for i, (node, score) in enumerate(top_10, 1):\n",
    "    print(f\"{i}. {node} - Score: {score:.6f}\")\n",
    "\n",
    "# Detecção de comunidades\n",
    "from networkx.algorithms.community import greedy_modularity_communities\n",
    "communities = greedy_modularity_communities(g)\n",
    "\n",
    "# Desenhar o grafo\n",
    "plt.figure(figsize=(10, 7))\n",
    "nx.draw(g, with_labels=False, node_size=20)\n",
    "plt.show()\n"
   ]
  },
  {
   "cell_type": "code",
   "execution_count": null,
   "metadata": {},
   "outputs": [],
   "source": [
    "# Carregar o arquivo original\n",
    "df = pd.read_csv('csv_files/twitter_network.csv')\n",
    "\n",
    "# Criar uma amostra aleatória de 500 interações\n",
    "df_sample = df.sample(n=500, random_state=42)\n",
    "\n",
    "# Salvar como novo CSV\n",
    "df_sample.to_csv('csv_files/twitter_network_sample.csv', index=False)"
   ]
  }
 ],
 "metadata": {
  "kernelspec": {
   "display_name": "ProjetoTAG",
   "language": "python",
   "name": "python3"
  },
  "language_info": {
   "codemirror_mode": {
    "name": "ipython",
    "version": 3
   },
   "file_extension": ".py",
   "mimetype": "text/x-python",
   "name": "python",
   "nbconvert_exporter": "python",
   "pygments_lexer": "ipython3",
   "version": "3.11.11"
  }
 },
 "nbformat": 4,
 "nbformat_minor": 2
}
